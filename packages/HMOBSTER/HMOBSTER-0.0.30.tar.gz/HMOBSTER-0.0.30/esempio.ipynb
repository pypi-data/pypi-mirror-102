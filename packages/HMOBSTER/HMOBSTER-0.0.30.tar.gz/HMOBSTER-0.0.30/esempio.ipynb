{
 "cells": [
  {
   "cell_type": "code",
   "execution_count": 1,
   "outputs": [
    {
     "name": "stderr",
     "text": [
      "\n",
      "Bad key \"text.kerning_factor\" on line 4 in\n",
      "/Users/salvatore/miniconda3/envs/hmobster/lib/python3.7/site-packages/matplotlib/mpl-data/stylelib/_classic_test_patch.mplstyle.\n",
      "You probably need to get an updated matplotlibrc file from\n",
      "https://github.com/matplotlib/matplotlib/blob/v3.1.3/matplotlibrc.template\n",
      "or from the matplotlib source distribution\n"
     ],
     "output_type": "stream"
    }
   ],
   "source": [
    "\n",
    "\n",
    "import mobster as mb\n",
    "\n",
    "\n"
   ],
   "metadata": {
    "collapsed": false,
    "pycharm": {
     "name": "#%%\n",
     "is_executing": false
    }
   }
  },
  {
   "cell_type": "code",
   "execution_count": 2,
   "outputs": [],
   "source": [
    "data = mb.load_example_data(\"./\")\n",
    "\n",
    "#data = data[\"1:1\"]"
   ],
   "metadata": {
    "collapsed": false,
    "pycharm": {
     "name": "#%%\n",
     "is_executing": false
    }
   }
  },
  {
   "cell_type": "code",
   "execution_count": 3,
   "outputs": [],
   "source": [
    "#data = { \"1:1\" : data}"
   ],
   "metadata": {
    "collapsed": false,
    "pycharm": {
     "name": "#%%\n",
     "is_executing": false
    }
   }
  },
  {
   "cell_type": "code",
   "execution_count": 15,
   "outputs": [
    {
     "name": "stdout",
     "text": [
      "Running MOBSTER on 3 karyotypes with 20 subclones.\n",
      "Fitting a model with tail\n",
      "\n",
      "Computing cluster assignements.\n",
      "Computing information criteria.\n",
      "Done!\n"
     ],
     "output_type": "stream"
    },
    {
     "name": "stderr",
     "text": [
      "ELBO: 5039.549160671  : 100%|██████████| 1/1 [00:00<00:00, 14.87it/s]\n"
     ],
     "output_type": "stream"
    }
   ],
   "source": [
    "fitted = mb.fit_mobster(data,20, 1,purity = 1,  truncated_pareto=True, max_it = 1, lr = 0.1,  e = 0.00001, lrd_gamma = 0.1,   \n",
    "        number_of_trials_k= 800, prior_lims_k=[100,10000])"
   ],
   "metadata": {
    "collapsed": false,
    "pycharm": {
     "name": "#%%\n",
     "is_executing": false
    }
   }
  },
  {
   "cell_type": "code",
   "execution_count": 16,
   "outputs": [],
   "source": [
    "mb.plot_results(data, fitted, output= \"cane.png\", drivers=None)"
   ],
   "metadata": {
    "collapsed": false,
    "pycharm": {
     "name": "#%%\n",
     "is_executing": false
    }
   }
  },
  {
   "cell_type": "code",
   "execution_count": 30,
   "outputs": [
    {
     "data": {
      "text/plain": "{'cluster_probs': array([[0.0000000e+00, 0.0000000e+00, 0.0000000e+00, ..., 0.0000000e+00,\n         0.0000000e+00, 0.0000000e+00],\n        [1.0000000e+00, 8.2137561e-11, 8.6049301e-09, ..., 1.0000000e+00,\n         2.6844749e-09, 1.0000000e+00],\n        [0.0000000e+00, 4.9116901e-29, 3.0923591e-20, ..., 0.0000000e+00,\n         1.4819814e-21, 0.0000000e+00],\n        ...,\n        [0.0000000e+00, 4.8710456e-16, 1.1501077e-09, ..., 2.3624056e-37,\n         1.2734144e-10, 0.0000000e+00],\n        [4.5544749e-36, 5.0691551e-01, 4.1915411e-01, ..., 8.7343437e-08,\n         4.4878522e-01, 1.9034357e-32],\n        [4.4168928e-42, 6.0502104e-03, 8.0425583e-02, ..., 1.9948342e-12,\n         5.6362845e-02, 2.5391447e-38]], dtype=float32),\n 'cluster_assignments': array(['C1', None, None, ..., 'C1', None, 'C1'], dtype=object),\n 'cluster_types': array([], dtype=object),\n 'mixture_probs': array([0.49450022, 0.04669346, 0.04567743, 0.04567743, 0.04567743,\n        0.04567743, 0.04669346, 0.04567743, 0.04567743, 0.04567743,\n        0.04669346, 0.04567743], dtype=float32),\n 'beta_concentration1': array([ 2.4998617 ,  0.07912471,  0.07912471,  0.07912471, 24.79452   ,\n        30.985651  , 26.02436   ,  6.070545  ,  8.083506  , 31.034723  ,\n        26.746838  ], dtype=float32),\n 'beta_concentration2': array([492.03027, 799.91943, 799.91943, 799.91943, 766.4537 , 760.2625 ,\n        765.2238 , 785.178  , 783.16656, 760.21344, 764.50134],\n       dtype=float32),\n 'tail_shape': array(1.0049098, dtype=float32),\n 'tail_scale': 0.044045046,\n 'tail_noise': 0.020221212711199452}"
     },
     "metadata": {},
     "output_type": "execute_result",
     "execution_count": 30
    }
   ],
   "source": [
    "fitted[\"model_parameters\"][\"1:1\"]\n",
    "\n"
   ],
   "metadata": {
    "collapsed": false,
    "pycharm": {
     "name": "#%%\n",
     "is_executing": false
    }
   }
  },
  {
   "cell_type": "code",
   "execution_count": 6,
   "outputs": [
    {
     "data": {
      "text/plain": "0.01"
     },
     "metadata": {},
     "output_type": "execute_result",
     "execution_count": 6
    }
   ],
   "source": [],
   "metadata": {
    "collapsed": false,
    "pycharm": {
     "name": "#%%\n",
     "is_executing": false
    }
   }
  },
  {
   "cell_type": "code",
   "execution_count": 8,
   "outputs": [
    {
     "data": {
      "text/plain": "1"
     },
     "metadata": {},
     "output_type": "execute_result",
     "execution_count": 8
    }
   ],
   "source": [],
   "metadata": {
    "collapsed": false,
    "pycharm": {
     "name": "#%%\n",
     "is_executing": false
    }
   }
  },
  {
   "cell_type": "code",
   "execution_count": null,
   "outputs": [],
   "source": [
    "\n"
   ],
   "metadata": {
    "collapsed": false,
    "pycharm": {
     "name": "#%%\n"
    }
   }
  }
 ],
 "metadata": {
  "kernelspec": {
   "display_name": "Python 3",
   "language": "python",
   "name": "python3"
  },
  "language_info": {
   "codemirror_mode": {
    "name": "ipython",
    "version": 3
   },
   "file_extension": ".py",
   "mimetype": "text/x-python",
   "name": "python",
   "nbconvert_exporter": "python",
   "pygments_lexer": "ipython3",
   "version": "3.8.5"
  },
  "pycharm": {
   "stem_cell": {
    "cell_type": "raw",
    "source": [],
    "metadata": {
     "collapsed": false
    }
   }
  }
 },
 "nbformat": 4,
 "nbformat_minor": 5
}