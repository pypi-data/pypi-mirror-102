{
 "cells": [
  {
   "cell_type": "markdown",
   "metadata": {},
   "source": [
    "# Retrieving substation's connected power stations in French transmission network"
   ]
  },
  {
   "cell_type": "markdown",
   "metadata": {},
   "source": [
    "RTE does not supply geo-referenced data for power stations located in the French territory. However, it does come with EIC as well as INSEE, IRIS and CodNat codes from the French codification system. These are the two available methods for retrieving location of the French power stations accordingly:\n",
    "* With the IRIS code and the corresponding IRIS slicing of the territory provided by IGN, it is possible to get the approximate location of the given power facilities.\n",
    "* With the infrastructure's name, the city/commune's name and the INSEE code, we may use some geocoding API through Python libraries [geopy](https://github.com/geopy/geopy) or [geocoder](https://github.com/DenisCarriere/geocoder), to get the exact address. However, accuracy is far from guaranteed, as many of the biggest power plants are generally not recorded in the corresponding databases.\n",
    "\n",
    "### List of power stations connected to substations\n",
    "We see that retrieving exact location of French power facilities is not guaranteed. Rather, with the CodNat of both substations and power stations, as well as the IRIS code, it is possible to retrieve *to which substation a given facility belongs (i.e. is connected)*.\n",
    "\n",
    "Hence, we propose an approach where location of the power stations is not stored, but instead each substation in the network will have its own list of connected power facilities, each one being characterized by its power, voltage, etc.\n",
    "\n",
    "### Creating *virtual* substations\n",
    "It happens that the power plant is directly connected to another substation far from the production site, especially in the case of nuclear power. In that case, we do not know to which substation the power plant is connected, since CodNat as well as IRIS codes are not shared between substations and power facilities. It is therefore necessary to create some *virtual* substation hosting the given power plant connection."
   ]
  },
  {
   "cell_type": "markdown",
   "metadata": {},
   "source": [
    "***"
   ]
  },
  {
   "cell_type": "markdown",
   "metadata": {},
   "source": [
    "## Retrieve power stations connected to substations"
   ]
  },
  {
   "cell_type": "code",
   "execution_count": 1,
   "metadata": {},
   "outputs": [],
   "source": [
    "import pandas as pd\n",
    "import os\n",
    "from greece import data_dir\n",
    "from greece.gistools import PolygonLayer\n",
    "from greece.pfmtools.grid import PowerLine, Substation\n",
    "from greece.pfmtools.tools import rte_substations_with_power_plants"
   ]
  },
  {
   "cell_type": "markdown",
   "metadata": {},
   "source": [
    "First import RTE listing of power stations and format it, that is add __voltage__ and __codnat__ keys, format iris code as a string (as in iris layer) + create a key __power__ which is either the nominal installed capacity or the max connected power (in case installed capacity is equal to 0):"
   ]
  },
  {
   "cell_type": "code",
   "execution_count": 2,
   "metadata": {},
   "outputs": [],
   "source": [
    "power_stations = pd.read_csv(os.path.join(data_dir, \"france_rte/list_power_stations.csv\"), dtype=object)\n",
    "power_stations[\"voltage\"] = power_stations[\"Tension raccordement\"][~power_stations[\n",
    "    \"Tension raccordement\"].isna()].apply(lambda x: x.replace(\" \", \"\"))\n",
    "power_stations = power_stations.rename(index=str, columns={\"codNat\": \"codnat\"})\n",
    "power_stations[\"power\"] = power_stations[\"puisMaxInstallee\"].combine(power_stations[\"puisMaxRac\"],\n",
    "                                                                     lambda x, y: x if x != 0 else y)\n",
    "power_stations[\"CODE_IRIS\"] = power_stations[\"CODE_IRIS\"][~power_stations[\"CODE_IRIS\"].isna()].apply(\n",
    "    lambda x: str(int(x)))"
   ]
  },
  {
   "cell_type": "markdown",
   "metadata": {},
   "source": [
    "Then import IRIS slicing of the territory as well as RTE substations and power lines:"
   ]
  },
  {
   "cell_type": "code",
   "execution_count": 3,
   "metadata": {},
   "outputs": [],
   "source": [
    "substations = Substation(os.path.join(data_dir, \"france_rte/substations/substations.shp\"), \"tensionmax\")\n",
    "substations = substations.rename(\"tensionmax\", \"voltage\")\n",
    "pwlines = PowerLine(os.path.join(data_dir, \"france_rte/france_pwlines/france_pwlines.shp\"), \"tension\")\n",
    "pwlines = pwlines.rename(\"tension\", \"voltage\")\n",
    "iris = PolygonLayer(os.path.join(data_dir, \"iris/iris.shp\"))"
   ]
  },
  {
   "cell_type": "markdown",
   "metadata": {},
   "source": [
    "We are only interested in power stations located in Metropolitan France (remove Corsica and overseas regions) and in operation (i.e. _en service_ in french):"
   ]
  },
  {
   "cell_type": "code",
   "execution_count": 4,
   "metadata": {},
   "outputs": [],
   "source": [
    "power_stations = power_stations[power_stations[\"CODE_IRIS\"].isin(iris[\"CODE_IRIS\"])]\n",
    "power_stations = power_stations[~power_stations[\"codnat\"].isna()]\n",
    "power_stations = power_stations[power_stations[\"regime\"] == \"En service\"]"
   ]
  },
  {
   "cell_type": "markdown",
   "metadata": {},
   "source": [
    "Retrieve the whole set of substations with _real_ and _virtual_ ones, with corresponding connect power stations:"
   ]
  },
  {
   "cell_type": "code",
   "execution_count": 5,
   "metadata": {},
   "outputs": [],
   "source": [
    "france_substations = rte_substations_with_power_plants(substations, pwlines, iris, \n",
    "                                                       power_stations, pws_type_key=\"Filière\")"
   ]
  },
  {
   "cell_type": "markdown",
   "metadata": {},
   "source": [
    "Save the result:"
   ]
  },
  {
   "cell_type": "code",
   "execution_count": 8,
   "metadata": {},
   "outputs": [],
   "source": [
    "france_substations.to_file(os.path.join(data_dir, \"france_rte/RTE_substations\"))"
   ]
  }
 ],
 "metadata": {
  "kernelspec": {
   "display_name": "Python 3",
   "language": "python",
   "name": "python3"
  },
  "language_info": {
   "codemirror_mode": {
    "name": "ipython",
    "version": 3
   },
   "file_extension": ".py",
   "mimetype": "text/x-python",
   "name": "python",
   "nbconvert_exporter": "python",
   "pygments_lexer": "ipython3",
   "version": "3.6.7"
  }
 },
 "nbformat": 4,
 "nbformat_minor": 2
}
