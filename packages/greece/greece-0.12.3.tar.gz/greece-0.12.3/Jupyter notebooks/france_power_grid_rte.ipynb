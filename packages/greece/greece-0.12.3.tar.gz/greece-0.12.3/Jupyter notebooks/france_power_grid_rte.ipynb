{
 "cells": [
  {
   "cell_type": "markdown",
   "metadata": {},
   "source": [
    "# Abstraction of France's transmission network based on RTE data"
   ]
  },
  {
   "cell_type": "markdown",
   "metadata": {},
   "source": [
    "From geographic RTE transmission network data, we build an abstraction model to be further implemented in pandapower Python library. Be careful as the abstraction might take some time... The best thing to do is to save data step by step and reuse it later.\n",
    "\n",
    "See also [SciGRID](https://www.scigrid.de/) and [GridKit](https://github.com/bdw/GridKit) initiatives from Germany to build abstraction models of european transmission networks from open-source data.\n",
    "\n",
    "#### Cleaning topology of power grid and power lines\n",
    "Typically, we have reused the ideas stated in the Bart Wiegmans' master thesis ([Improving the topology of an electric network model based on Open Data](https://www.power.scigrid.de/publications/16_1_BWiegmans_Master_Thesis_2015.pdf)) and in [Open Data in Power Grid Modelling: New Approaches Towards Transparent Grid Models](https://www.sciencedirect.com/science/article/pii/S2352484716300877). It can be summarized as follows:\n",
    "* When substations and power lines overlap, they are connected. To be sure they overlap *exactly*, we may use some buffer around the corresponding substations\n",
    "* Power lines may be recorded as multiple lines (overhead and/or underground), so we merge it to form single and simple electrical lines.\n",
    "* Power lines which intersect are not necessarily connected. We only regard lines as connected when a power line ends on another one.\n",
    "* A shared point where more than two lines terminate is a junction."
   ]
  },
  {
   "cell_type": "code",
   "execution_count": 1,
   "metadata": {},
   "outputs": [],
   "source": [
    "import os\n",
    "from greece.pfmtools.grid import PowerLine, Substation, PowerGrid\n",
    "from greece import data_dir"
   ]
  },
  {
   "cell_type": "markdown",
   "metadata": {},
   "source": [
    "#### Use substations (real + virtual) and power lines computed beforehand (see other notebooks)"
   ]
  },
  {
   "cell_type": "code",
   "execution_count": 2,
   "metadata": {},
   "outputs": [],
   "source": [
    "france_pwlines = PowerLine(os.path.join(data_dir, \"france_rte\", \"france_pwlines\", \"france_pwlines.shp\"), \n",
    "                           voltage_key=\"tension\").to_crs(2154)\n",
    "france_substations = Substation(os.path.join(data_dir, \"france_rte\", \"RTE_substations\", \"RTE_substations.shp\"), \n",
    "                                voltage_key=\"voltage\").to_crs(2154)"
   ]
  },
  {
   "cell_type": "markdown",
   "metadata": {},
   "source": [
    "#### Build power grid "
   ]
  },
  {
   "cell_type": "code",
   "execution_count": 3,
   "metadata": {},
   "outputs": [],
   "source": [
    "power_grid = PowerGrid(france_pwlines, france_substations, buffer_substation=5)\n",
    "power_grid.clean_topology(50)"
   ]
  },
  {
   "cell_type": "markdown",
   "metadata": {},
   "source": [
    "#### Save to file"
   ]
  },
  {
   "cell_type": "code",
   "execution_count": 4,
   "metadata": {},
   "outputs": [
    {
     "name": "stderr",
     "output_type": "stream",
     "text": [
      "/home/benjamin/anaconda3/envs/benjamin3.6/lib/python3.6/site-packages/geopandas/io/file.py:108: FionaDeprecationWarning: Use fiona.Env() instead.\n",
      "  with fiona.drivers():\n"
     ]
    }
   ],
   "source": [
    "power_grid.lines.to_file(\"/home/benjamin/france_pwlines\")\n",
    "power_grid.substations.to_file(\"/home/benjamin/france_substations\")"
   ]
  }
 ],
 "metadata": {
  "kernelspec": {
   "display_name": "Python 3",
   "language": "python",
   "name": "python3"
  },
  "language_info": {
   "codemirror_mode": {
    "name": "ipython",
    "version": 3
   },
   "file_extension": ".py",
   "mimetype": "text/x-python",
   "name": "python",
   "nbconvert_exporter": "python",
   "pygments_lexer": "ipython3",
   "version": "3.6.7"
  }
 },
 "nbformat": 4,
 "nbformat_minor": 2
}
