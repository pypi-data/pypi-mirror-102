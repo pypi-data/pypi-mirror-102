{
 "cells": [
  {
   "cell_type": "markdown",
   "metadata": {},
   "source": [
    "# Compute truck's shortest travel time through road network"
   ]
  },
  {
   "cell_type": "markdown",
   "metadata": {},
   "source": [
    "Import numpy module:"
   ]
  },
  {
   "cell_type": "code",
   "execution_count": 1,
   "metadata": {},
   "outputs": [],
   "source": [
    "import numpy as np"
   ]
  },
  {
   "cell_type": "markdown",
   "metadata": {},
   "source": [
    "Import custom Python modules for road networks:"
   ]
  },
  {
   "cell_type": "code",
   "execution_count": 2,
   "metadata": {},
   "outputs": [],
   "source": [
    "from geotools.network import Node, Road, RoadNetwork"
   ]
  },
  {
   "cell_type": "markdown",
   "metadata": {},
   "source": [
    "Build roads and nodes from shapefile:"
   ]
  },
  {
   "cell_type": "code",
   "execution_count": 3,
   "metadata": {},
   "outputs": [],
   "source": [
    "road = Road(\"/home/benjamin/Documents/Post-doc Guyane/Data/Geo layers/Road network/main_road_network.shp\")\n",
    "road.set_direction('SENS', {'Double sens': 'two-ways', 'Sens inverse': 'reverse', 'Sens unique': 'one-way'})\n",
    "node = Node(\"/home/benjamin/Documents/Post-doc Guyane/Data/Geo layers/RESEAU_ROUTIER/NOEUD_ROUTIER.SHP\")\n",
    "node = node.to_crs(crs=road.crs)"
   ]
  },
  {
   "cell_type": "markdown",
   "metadata": {},
   "source": [
    "Build road network:"
   ]
  },
  {
   "cell_type": "code",
   "execution_count": 4,
   "metadata": {},
   "outputs": [],
   "source": [
    "road_network = RoadNetwork(road, node)"
   ]
  },
  {
   "cell_type": "markdown",
   "metadata": {},
   "source": [
    "Set max allowed speed at intersections:"
   ]
  },
  {
   "cell_type": "code",
   "execution_count": 5,
   "metadata": {},
   "outputs": [],
   "source": [
    "v_in, v_out = road_network.velocity_at_intersection(\n",
    "    \"NATURE\", {'Carrefour simple': 20, 'Carrefour aménagé': 30, 'Barrière': 0, 'Embarcadère': 0,\n",
    "               'Echangeur complet': 40, 'Petit rond-point': 20, \"Changement d'attribut\": 20})"
   ]
  },
  {
   "cell_type": "markdown",
   "metadata": {},
   "source": [
    "Compute travel time:"
   ]
  },
  {
   "cell_type": "code",
   "execution_count": 6,
   "metadata": {},
   "outputs": [],
   "source": [
    "travel_time = road_network.travel_time('ETAT', {'Non revêtu': 70, 'Revêtu': 90, 'Sentier': 50,\n",
    "                                                   \"Chemin d'exploitation\": 40}, 'ETAT',\n",
    "                                          {'Non revêtu': 0.015, 'Revêtu': 0.01, 'Sentier': 0.02,\n",
    "                                           \"Chemin d'exploitation\": 0.02}, acceleration_rate=1.5, gross_hp=500,\n",
    "                                          vehicle_weight=30000, v_in_max=v_in, v_out_max=v_out, speed_format='km/h')"
   ]
  },
  {
   "cell_type": "markdown",
   "metadata": {},
   "source": [
    "Compute fuel consumption:"
   ]
  },
  {
   "cell_type": "code",
   "execution_count": 34,
   "metadata": {},
   "outputs": [],
   "source": [
    " fuel_demand = road_network.fuel_consumption(\n",
    "     'ETAT', {'Non revêtu': 70, 'Revêtu': 90, 'Sentier': 50,\n",
    "              \"Chemin d'exploitation\": 40}, \n",
    "     'ETAT', {'Non revêtu': 0.015, 'Revêtu': 0.01, 'Sentier': 0.02, \"Chemin d'exploitation\": 0.02},\n",
    "     gross_hp=100, vehicle_weight=1100, v_in_max=v_in, v_out_max=v_out, vehicle_frontal_area=2.52,\n",
    "     speed_format=\"km/h\")"
   ]
  },
  {
   "cell_type": "markdown",
   "metadata": {},
   "source": [
    "#### Sum travel time and fuel consumption over each road segment:"
   ]
  },
  {
   "cell_type": "code",
   "execution_count": 15,
   "metadata": {},
   "outputs": [],
   "source": [
    "sum_travel_time = {'one-way': [np.sum(t) for t in travel_time[\"one-way\"]], \n",
    "                   'reverse': [np.sum(t) for t in travel_time[\"reverse\"]]}"
   ]
  },
  {
   "cell_type": "code",
   "execution_count": 35,
   "metadata": {},
   "outputs": [],
   "source": [
    "sum_fuel_demand = {'one-way': [np.sum(f) for f in fuel_demand[\"one-way\"]], \n",
    "                   'reverse': [np.sum(f) for f in fuel_demand[\"reverse\"]]}"
   ]
  },
  {
   "cell_type": "markdown",
   "metadata": {},
   "source": [
    "#### Build road's corresponding graph with respect to travel time:"
   ]
  },
  {
   "cell_type": "code",
   "execution_count": 16,
   "metadata": {},
   "outputs": [
    {
     "data": {
      "text/plain": [
       "<geotools.network.RoadNetwork at 0x7f18b2bb4630>"
      ]
     },
     "execution_count": 16,
     "metadata": {},
     "output_type": "execute_result"
    }
   ],
   "source": [
    "road_network.build_graph(sum_travel_time[\"one-way\"], sum_travel_time[\"reverse\"])"
   ]
  },
  {
   "cell_type": "markdown",
   "metadata": {},
   "source": [
    "Compute shortest path between some example nodes:"
   ]
  },
  {
   "cell_type": "code",
   "execution_count": 28,
   "metadata": {},
   "outputs": [],
   "source": [
    "path = road_network.get_shortest_path(road_network.nodes.geometry[45], road_network.nodes.geometry[1245])\n",
    "path_time = road_network.get_shortest_path_length(road_network.nodes.geometry[45], road_network.nodes.geometry[1245])"
   ]
  },
  {
   "cell_type": "markdown",
   "metadata": {},
   "source": [
    "Path travel time and length (in km):"
   ]
  },
  {
   "cell_type": "code",
   "execution_count": 29,
   "metadata": {},
   "outputs": [
    {
     "name": "stdout",
     "output_type": "stream",
     "text": [
      "Travel time = 5.0 h\n",
      "Length = 208.1 km\n"
     ]
    }
   ],
   "source": [
    "print(\"Travel time = %.1f h\" % path_time)\n",
    "print(\"Length = %.1f km\" % (np.sum(path.length)/1000))"
   ]
  },
  {
   "cell_type": "markdown",
   "metadata": {},
   "source": [
    "Try reverse path:"
   ]
  },
  {
   "cell_type": "code",
   "execution_count": 31,
   "metadata": {},
   "outputs": [],
   "source": [
    "path = road_network.get_shortest_path(road_network.nodes.geometry[1245], road_network.nodes.geometry[45])\n",
    "path_time = road_network.get_shortest_path_length(road_network.nodes.geometry[1245], road_network.nodes.geometry[45])"
   ]
  },
  {
   "cell_type": "code",
   "execution_count": 32,
   "metadata": {},
   "outputs": [
    {
     "name": "stdout",
     "output_type": "stream",
     "text": [
      "Travel time = 4.9 h\n",
      "Length = 208.1 km\n"
     ]
    }
   ],
   "source": [
    "print(\"Travel time = %.1f h\" % path_time)\n",
    "print(\"Length = %.1f km\" % (np.sum(path.length)/1000))"
   ]
  },
  {
   "cell_type": "markdown",
   "metadata": {},
   "source": [
    "Plot path:"
   ]
  },
  {
   "cell_type": "code",
   "execution_count": 33,
   "metadata": {},
   "outputs": [
    {
     "data": {
      "text/plain": [
       "<matplotlib.axes._subplots.AxesSubplot at 0x7f18b290f358>"
      ]
     },
     "execution_count": 33,
     "metadata": {},
     "output_type": "execute_result"
    },
    {
     "data": {
      "image/png": "[encoded data removed]",
      "text/plain": [
       "<Figure size 432x288 with 1 Axes>"
      ]
     },
     "metadata": {},
     "output_type": "display_data"
    }
   ],
   "source": [
    "road.plot(layer_color=\"blue\")\n",
    "path.plot(layer_color=\"red\")"
   ]
  },
  {
   "cell_type": "markdown",
   "metadata": {},
   "source": [
    "#### Build network graph with respect to fuel demand:"
   ]
  },
  {
   "cell_type": "code",
   "execution_count": 36,
   "metadata": {},
   "outputs": [
    {
     "data": {
      "text/plain": [
       "<geotools.network.RoadNetwork at 0x7f18b2bb4630>"
      ]
     },
     "execution_count": 36,
     "metadata": {},
     "output_type": "execute_result"
    }
   ],
   "source": [
    "road_network.build_graph(sum_fuel_demand[\"one-way\"], sum_fuel_demand[\"reverse\"])"
   ]
  },
  {
   "cell_type": "markdown",
   "metadata": {},
   "source": [
    "Compute shortest path between some example nodes:"
   ]
  },
  {
   "cell_type": "code",
   "execution_count": 56,
   "metadata": {},
   "outputs": [],
   "source": [
    "path = road_network.get_shortest_path(road_network.nodes.geometry[450], road_network.nodes.geometry[12])\n",
    "path_fuel = road_network.get_shortest_path_length(road_network.nodes.geometry[450], road_network.nodes.geometry[12])"
   ]
  },
  {
   "cell_type": "code",
   "execution_count": 57,
   "metadata": {},
   "outputs": [
    {
     "name": "stdout",
     "output_type": "stream",
     "text": [
      "Fuel demand = 11.042 l\n",
      "Length = 159.9 km\n"
     ]
    }
   ],
   "source": [
    "print(\"Fuel demand = %.3f l\" % path_fuel)\n",
    "print(\"Length = %.1f km\" % (np.sum(path.length)/1000))"
   ]
  },
  {
   "cell_type": "markdown",
   "metadata": {},
   "source": [
    "Try reverse path:"
   ]
  },
  {
   "cell_type": "code",
   "execution_count": 53,
   "metadata": {},
   "outputs": [],
   "source": [
    "path = road_network.get_shortest_path(road_network.nodes.geometry[12], road_network.nodes.geometry[450])\n",
    "path_fuel = road_network.get_shortest_path_length(road_network.nodes.geometry[12], road_network.nodes.geometry[450])"
   ]
  },
  {
   "cell_type": "code",
   "execution_count": 54,
   "metadata": {},
   "outputs": [
    {
     "name": "stdout",
     "output_type": "stream",
     "text": [
      "Fuel demand = 11.065 l\n",
      "Length = 159.8 km\n"
     ]
    }
   ],
   "source": [
    "print(\"Fuel demand = %.3f l\" % path_fuel)\n",
    "print(\"Length = %.1f km\" % (np.sum(path.length)/1000))"
   ]
  },
  {
   "cell_type": "code",
   "execution_count": 55,
   "metadata": {},
   "outputs": [
    {
     "data": {
      "text/plain": [
       "<matplotlib.axes._subplots.AxesSubplot at 0x7f18a6df0d68>"
      ]
     },
     "execution_count": 55,
     "metadata": {},
     "output_type": "execute_result"
    },
    {
     "data": {
      "image/png": "[encoded data removed]",
      "text/plain": [
       "<Figure size 432x288 with 1 Axes>"
      ]
     },
     "metadata": {},
     "output_type": "display_data"
    }
   ],
   "source": [
    "road.plot(layer_color=\"blue\")\n",
    "path.plot(layer_color=\"red\")"
   ]
  }
 ],
 "metadata": {
  "kernelspec": {
   "display_name": "Python 3",
   "language": "python",
   "name": "python3"
  },
  "language_info": {
   "codemirror_mode": {
    "name": "ipython",
    "version": 3
   },
   "file_extension": ".py",
   "mimetype": "text/x-python",
   "name": "python",
   "nbconvert_exporter": "python",
   "pygments_lexer": "ipython3",
   "version": "3.6.7"
  }
 },
 "nbformat": 4,
 "nbformat_minor": 2
}
