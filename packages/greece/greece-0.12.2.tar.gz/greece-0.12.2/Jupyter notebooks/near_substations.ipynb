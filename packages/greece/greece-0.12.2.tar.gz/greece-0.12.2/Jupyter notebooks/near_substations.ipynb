{
 "cells": [
  {
   "cell_type": "markdown",
   "metadata": {
    "collapsed": true
   },
   "source": [
    "## Selection of the substations nearest to main cities"
   ]
  },
  {
   "cell_type": "markdown",
   "metadata": {},
   "source": [
    "We assume main Guiana cities as our consumption zones. There are 5 cities (Kourou, Cayenne, Saint Laurent du Maroni, Matoury and Rémire Montjoly) for around 150 000 dwellers. We consider the nearest substations as the ending points in the electrical power flow."
   ]
  },
  {
   "cell_type": "code",
   "execution_count": 8,
   "metadata": {},
   "outputs": [],
   "source": [
    "import geopandas as gpd\n",
    "from geotools.network import Node"
   ]
  },
  {
   "cell_type": "markdown",
   "metadata": {},
   "source": [
    "Import cities and substations:"
   ]
  },
  {
   "cell_type": "code",
   "execution_count": 7,
   "metadata": {},
   "outputs": [],
   "source": [
    "substations = Node(\"/home/benjamin/Documents/Post-doc Guyane/Data/Geo layers/reseau_electrique/substations.shp\")\n",
    "places = Node(\"/home/benjamin/Documents/Post-doc Guyane/Data/Geo layers/Cartes administratives/places.shp\")\n",
    "cities = places[places[\"type\"] == \"town\"]"
   ]
  },
  {
   "cell_type": "markdown",
   "metadata": {},
   "source": [
    "Find nearest stations to cities:"
   ]
  },
  {
   "cell_type": "code",
   "execution_count": 9,
   "metadata": {},
   "outputs": [],
   "source": [
    "nn = cities.nearest_neighbor(substations)\n",
    "near_substations = Node(gpd.GeoDataFrame(geometry=[substations.geometry[n] for n in nn], crs=substations.crs))\n",
    "near_substations[\"city_name\"] = cities[\"name\"]"
   ]
  },
  {
   "cell_type": "markdown",
   "metadata": {},
   "source": [
    "Save to shapefile:"
   ]
  },
  {
   "cell_type": "code",
   "execution_count": 10,
   "metadata": {},
   "outputs": [],
   "source": [
    "near_substations.to_file(\"/home/benjamin/Documents/Post-doc Guyane/Data/Geo \"\n",
    "                         \"layers/reseau_electrique/near_substations.shp\")"
   ]
  }
 ],
 "metadata": {
  "kernelspec": {
   "display_name": "Python 2",
   "language": "python",
   "name": "python2"
  },
  "language_info": {
   "codemirror_mode": {
    "name": "ipython",
    "version": 2
   },
   "file_extension": ".py",
   "mimetype": "text/x-python",
   "name": "python",
   "nbconvert_exporter": "python",
   "pygments_lexer": "ipython2",
   "version": "2.7.6"
  }
 },
 "nbformat": 4,
 "nbformat_minor": 0
}
