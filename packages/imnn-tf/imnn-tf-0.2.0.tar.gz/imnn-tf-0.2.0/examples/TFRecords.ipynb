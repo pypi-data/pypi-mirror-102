{
 "cells": [
  {
   "cell_type": "markdown",
   "metadata": {},
   "source": [
    "# Making TFRecords for the IMNN\n",
    "\n",
    "One way we can feed data to the IMNN is via the TFRecords format which stores a sequence of binary records.\n",
    "\n",
    "The IMNN needs two different forms of records, one for the fiducial simulations and one for the derivative simulations.\n",
    "\n",
    "Here we show how we can serialise and save a collection of records of size 150Mb (which is about optimal for reading)."
   ]
  },
  {
   "cell_type": "markdown",
   "metadata": {},
   "source": [
    "First we need to define a function which grabs a single simulation (at a given seed) and if it is a simulation for the numerical derivative it also needs a given derivative (0 or 1 for the negative or positive part of the numerical derivative) as well as and index for which parameter the derivative is being taken on.\n",
    "\n",
    "Lets say we had a very large numpy file for for the fiducial (10000 simulations) and derivatives (1000 simulations) of some 3D data (256 voxels per side) with 5 parameters in the simulator model that wouldn't fit in GPU memory,\n",
    "```python\n",
    "n_fid_sims = 10000\n",
    "n_der_sims = 1000\n",
    "input_shape = (256, 256, 256, 1)\n",
    "n_params = 5\n",
    "\n",
    "fiducial_simulations.shape\n",
    "  # (10000, 256, 256, 256, 1)\n",
    "fiducial_validation_simulations.shape\n",
    "  # (10000, 256, 256, 256, 1)\n",
    "derivative_simulations.shape\n",
    "  # (1000, 2, 5, 256, 256, 256, 1)\n",
    "derivative_validation_simulations.shape\n",
    "  # (1000, 2, 5, 256, 256, 256, 1)\n",
    "```\n",
    "We could write two functions to get single simulations and return them as numpy arrays to serialise them as TFRecords, (these functions have to return numpy arrays even if your simulations have some other form on file for example).\n",
    "```python\n",
    "def get_fiducial(seed, data):\n",
    "    return data[seed]\n",
    "\n",
    "def get_derivative(seed, derivative, parameter, data):\n",
    "    return data[seed, derivative, parameter]\n",
    "\n",
    "get_fiducial(0, fiducial_simulations).shape\n",
    "  # (256, 256, 256, 1)\n",
    "get_fiducial(0, fiducial_validation_simulations).shape\n",
    "  # (256, 256, 256, 1)\n",
    "get_derivative_simulation(0, 0, 0, derivative_simulations).shape\n",
    "  # (256, 256, 256, 1)\n",
    "get_derivative_simulation(0, 0, 0, derivative_validation_simulations).shape\n",
    "  # (256, 256, 256, 1)\n",
    "```\n",
    "\n",
    "We are going to serialise the input data from a numpy array to a list of bytes and the indices as integers. This can all be done using the TFRecords module as part of utils.\n",
    "\n",
    "```python\n",
    "from imnn_tf.utils import TFRecords\n",
    "```\n",
    "\n",
    "To write all the simulations to records in `data/tfrecords` with the default name `fiducial` and `derivative` (`validation_fiducial` and `validation_derivative` for validation data) we can run"
   ]
  },
  {
   "cell_type": "markdown",
   "metadata": {},
   "source": [
    "```python\n",
    "writer = TFRecords(record_size=150)\n",
    "\n",
    "writer.write_record(\n",
    "    n_sims=n_fid_sims, \n",
    "    get_simulation=lambda x : get_fiducial(x, fiducial_simulations),\n",
    "    fiducial=True, \n",
    "    directory=\"data/tfrecords\")\n",
    "\n",
    "writer.write_record(\n",
    "    n_sims=n_fid_sims, \n",
    "    get_simulation=lambda x : get_fiducial(x, fiducial_validation_simulations),\n",
    "    fiducial=True, \n",
    "    validation=True,\n",
    "    directory=\"data/tfrecords\")\n",
    "\n",
    "writer.write_record(\n",
    "    n_sims=n_fid_sims, \n",
    "    get_simulation=lambda x, y, z : get_derivative(x, y, z, derivative_simulations),\n",
    "    fiducial=False,\n",
    "    n_params=n_params,\n",
    "    directory=\"data/tfrecords\")\n",
    "\n",
    "writer.write_record(\n",
    "    n_sims=n_fid_sims, \n",
    "    get_simulation=lambda x, y, z : get_derivative(x, y, z, derivative_validation_simulations),\n",
    "    fiducial=False,\n",
    "    n_params=n_params,\n",
    "    validation=True,\n",
    "    directory=\"data/tfrecords\")\n",
    "```"
   ]
  }
 ],
 "metadata": {
  "kernelspec": {
   "display_name": "Python 3",
   "language": "python",
   "name": "python3"
  },
  "language_info": {
   "codemirror_mode": {
    "name": "ipython",
    "version": 3
   },
   "file_extension": ".py",
   "mimetype": "text/x-python",
   "name": "python",
   "nbconvert_exporter": "python",
   "pygments_lexer": "ipython3",
   "version": "3.7.9"
  }
 },
 "nbformat": 4,
 "nbformat_minor": 4
}
